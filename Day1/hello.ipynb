{
 "cells": [
  {
   "cell_type": "code",
   "execution_count": 1,
   "id": "c112ef87",
   "metadata": {},
   "outputs": [
    {
     "name": "stdout",
     "output_type": "stream",
     "text": [
      "hello\n"
     ]
    }
   ],
   "source": [
    "print(\"hello\")"
   ]
  },
  {
   "cell_type": "code",
   "execution_count": 1,
   "id": "d7d93a51",
   "metadata": {},
   "outputs": [
    {
     "name": "stdout",
     "output_type": "stream",
     "text": [
      "8 is even\n"
     ]
    }
   ],
   "source": [
    "def check(num):\n",
    "    if num%2 == 0:\n",
    "        return f\"{num} is even\"\n",
    "    else:\n",
    "        return f\"{num} is odd\"\n",
    "\n",
    "num = int(input(\"Enter a number\"))\n",
    "result = check(num)\n",
    "print(result)"
   ]
  },
  {
   "cell_type": "code",
   "execution_count": 3,
   "id": "e07d3280",
   "metadata": {},
   "outputs": [
    {
     "name": "stdout",
     "output_type": "stream",
     "text": [
      "6\n"
     ]
    }
   ],
   "source": [
    "def gcd(a, b):\n",
    "    if b == 0:\n",
    "        return a\n",
    "    else:\n",
    "        while b!= 0:\n",
    "            r = a%b\n",
    "            a = b\n",
    "            b = r\n",
    "        return a\n",
    "print(gcd(18,12))\n",
    "\n",
    "    "
   ]
  },
  {
   "cell_type": "code",
   "execution_count": 4,
   "id": "775b176b",
   "metadata": {},
   "outputs": [
    {
     "name": "stdout",
     "output_type": "stream",
     "text": [
      "Collecting matplotlib\n",
      "  Downloading matplotlib-3.10.1-cp313-cp313-win_amd64.whl.metadata (11 kB)\n",
      "Collecting numpy\n",
      "  Downloading numpy-2.2.5-cp313-cp313-win_amd64.whl.metadata (60 kB)\n",
      "Collecting contourpy>=1.0.1 (from matplotlib)\n",
      "  Downloading contourpy-1.3.2-cp313-cp313-win_amd64.whl.metadata (5.5 kB)\n",
      "Collecting cycler>=0.10 (from matplotlib)\n",
      "  Downloading cycler-0.12.1-py3-none-any.whl.metadata (3.8 kB)\n",
      "Collecting fonttools>=4.22.0 (from matplotlib)\n",
      "  Downloading fonttools-4.57.0-cp313-cp313-win_amd64.whl.metadata (104 kB)\n",
      "Collecting kiwisolver>=1.3.1 (from matplotlib)\n",
      "  Downloading kiwisolver-1.4.8-cp313-cp313-win_amd64.whl.metadata (6.3 kB)\n",
      "Requirement already satisfied: packaging>=20.0 in c:\\users\\lenovo\\appdata\\roaming\\python\\python313\\site-packages (from matplotlib) (25.0)\n",
      "Collecting pillow>=8 (from matplotlib)\n",
      "  Downloading pillow-11.2.1-cp313-cp313-win_amd64.whl.metadata (9.1 kB)\n",
      "Collecting pyparsing>=2.3.1 (from matplotlib)\n",
      "  Downloading pyparsing-3.2.3-py3-none-any.whl.metadata (5.0 kB)\n",
      "Requirement already satisfied: python-dateutil>=2.7 in c:\\users\\lenovo\\appdata\\roaming\\python\\python313\\site-packages (from matplotlib) (2.9.0.post0)\n",
      "Requirement already satisfied: six>=1.5 in c:\\users\\lenovo\\appdata\\roaming\\python\\python313\\site-packages (from python-dateutil>=2.7->matplotlib) (1.17.0)\n",
      "Downloading matplotlib-3.10.1-cp313-cp313-win_amd64.whl (8.1 MB)\n",
      "   ---------------------------------------- 0.0/8.1 MB ? eta -:--:--\n",
      "   - -------------------------------------- 0.3/8.1 MB ? eta -:--:--\n",
      "   --- ------------------------------------ 0.8/8.1 MB 3.2 MB/s eta 0:00:03\n",
      "   --------- ------------------------------ 1.8/8.1 MB 3.1 MB/s eta 0:00:02\n",
      "   ----------- ---------------------------- 2.4/8.1 MB 3.0 MB/s eta 0:00:02\n",
      "   --------------- ------------------------ 3.1/8.1 MB 3.3 MB/s eta 0:00:02\n",
      "   ------------------ --------------------- 3.7/8.1 MB 3.4 MB/s eta 0:00:02\n",
      "   ---------------------- ----------------- 4.5/8.1 MB 3.3 MB/s eta 0:00:02\n",
      "   ------------------------ --------------- 5.0/8.1 MB 3.1 MB/s eta 0:00:02\n",
      "   -------------------------- ------------- 5.2/8.1 MB 2.9 MB/s eta 0:00:01\n",
      "   ------------------------------- -------- 6.3/8.1 MB 3.1 MB/s eta 0:00:01\n",
      "   ------------------------------------ --- 7.3/8.1 MB 3.3 MB/s eta 0:00:01\n",
      "   ---------------------------------------  7.9/8.1 MB 3.3 MB/s eta 0:00:01\n",
      "   ---------------------------------------- 8.1/8.1 MB 3.2 MB/s eta 0:00:00\n",
      "Downloading numpy-2.2.5-cp313-cp313-win_amd64.whl (12.6 MB)\n",
      "   ---------------------------------------- 0.0/12.6 MB ? eta -:--:--\n",
      "   -- ------------------------------------- 0.8/12.6 MB 3.7 MB/s eta 0:00:04\n",
      "   ---- ----------------------------------- 1.3/12.6 MB 3.3 MB/s eta 0:00:04\n",
      "   ------- -------------------------------- 2.4/12.6 MB 3.9 MB/s eta 0:00:03\n",
      "   --------- ------------------------------ 3.1/12.6 MB 3.9 MB/s eta 0:00:03\n",
      "   -------------- ------------------------- 4.5/12.6 MB 4.3 MB/s eta 0:00:02\n",
      "   ----------------- ---------------------- 5.5/12.6 MB 4.6 MB/s eta 0:00:02\n",
      "   ------------------ --------------------- 5.8/12.6 MB 4.0 MB/s eta 0:00:02\n",
      "   -------------------- ------------------- 6.6/12.6 MB 4.0 MB/s eta 0:00:02\n",
      "   ------------------------ --------------- 7.9/12.6 MB 4.2 MB/s eta 0:00:02\n",
      "   --------------------------- ------------ 8.7/12.6 MB 4.3 MB/s eta 0:00:01\n",
      "   ------------------------------ --------- 9.7/12.6 MB 4.2 MB/s eta 0:00:01\n",
      "   ---------------------------------- ----- 10.7/12.6 MB 4.3 MB/s eta 0:00:01\n",
      "   ----------------------------------- ---- 11.3/12.6 MB 4.2 MB/s eta 0:00:01\n",
      "   -------------------------------------- - 12.1/12.6 MB 4.2 MB/s eta 0:00:01\n",
      "   ---------------------------------------- 12.6/12.6 MB 4.1 MB/s eta 0:00:00\n",
      "Downloading contourpy-1.3.2-cp313-cp313-win_amd64.whl (223 kB)\n",
      "Downloading cycler-0.12.1-py3-none-any.whl (8.3 kB)\n",
      "Downloading fonttools-4.57.0-cp313-cp313-win_amd64.whl (2.2 MB)\n",
      "   ---------------------------------------- 0.0/2.2 MB ? eta -:--:--\n",
      "   ------------------- -------------------- 1.0/2.2 MB 4.9 MB/s eta 0:00:01\n",
      "   --------------------------------- ------ 1.8/2.2 MB 4.9 MB/s eta 0:00:01\n",
      "   ---------------------------------------- 2.2/2.2 MB 4.0 MB/s eta 0:00:00\n",
      "Downloading kiwisolver-1.4.8-cp313-cp313-win_amd64.whl (71 kB)\n",
      "Downloading pillow-11.2.1-cp313-cp313-win_amd64.whl (2.7 MB)\n",
      "   ---------------------------------------- 0.0/2.7 MB ? eta -:--:--\n",
      "   ----------------------- ---------------- 1.6/2.7 MB 8.7 MB/s eta 0:00:01\n",
      "   ---------------------------------------  2.6/2.7 MB 6.2 MB/s eta 0:00:01\n",
      "   ---------------------------------------- 2.7/2.7 MB 5.2 MB/s eta 0:00:00\n",
      "Downloading pyparsing-3.2.3-py3-none-any.whl (111 kB)\n",
      "Installing collected packages: pyparsing, pillow, numpy, kiwisolver, fonttools, cycler, contourpy, matplotlib\n",
      "Successfully installed contourpy-1.3.2 cycler-0.12.1 fonttools-4.57.0 kiwisolver-1.4.8 matplotlib-3.10.1 numpy-2.2.5 pillow-11.2.1 pyparsing-3.2.3\n"
     ]
    },
    {
     "name": "stderr",
     "output_type": "stream",
     "text": [
      "\n",
      "[notice] A new release of pip is available: 25.0.1 -> 25.1.1\n",
      "[notice] To update, run: python.exe -m pip install --upgrade pip\n"
     ]
    }
   ],
   "source": [
    "!pip install matplotlib numpy\n"
   ]
  },
  {
   "cell_type": "code",
   "execution_count": 5,
   "id": "de34eec6",
   "metadata": {},
   "outputs": [],
   "source": [
    "import numpy as np\n",
    "import matplotlib.pyplot as plt"
   ]
  },
  {
   "cell_type": "code",
   "execution_count": 6,
   "id": "c5e7d1fa",
   "metadata": {},
   "outputs": [
    {
     "name": "stdout",
     "output_type": "stream",
     "text": [
      "1\n",
      "12\n",
      "123\n",
      "1234\n",
      "12345\n"
     ]
    }
   ],
   "source": [
    "for i in range(1,6):\n",
    "    for j in range(1,i+1):\n",
    "        print(j, end=\"\")\n",
    "    print()\n",
    "    "
   ]
  },
  {
   "cell_type": "code",
   "execution_count": 10,
   "id": "2821d37c",
   "metadata": {},
   "outputs": [
    {
     "data": {
      "image/png": "[encoded data removed]",
      "text/plain": [
       "<Figure size 1000x600 with 1 Axes>"
      ]
     },
     "metadata": {},
     "output_type": "display_data"
    }
   ],
   "source": [
    "X = np.arange(1,2,0.02)\n",
    "y = 3*X*X + 4*X + 5\n",
    "\n",
    "plt.figure(figsize=(10,6))\n",
    "plt.plot( X, y, c='r')\n",
    "plt.xlabel(\"X\")\n",
    "plt.ylabel(\"y\")\n",
    "plt.title (\"X vs y\")\n",
    "plt.show()"
   ]
  },
  {
   "cell_type": "code",
   "execution_count": 19,
   "id": "87fa5135",
   "metadata": {},
   "outputs": [
    {
     "name": "stdout",
     "output_type": "stream",
     "text": [
      "Collecting scikit-learn\n",
      "  Using cached scikit_learn-1.6.1-cp313-cp313-win_amd64.whl.metadata (15 kB)\n",
      "Requirement already satisfied: numpy>=1.19.5 in c:\\users\\lenovo\\appdata\\local\\programs\\python\\python313\\lib\\site-packages (from scikit-learn) (2.2.5)\n",
      "Collecting scipy>=1.6.0 (from scikit-learn)\n",
      "  Using cached scipy-1.15.2-cp313-cp313-win_amd64.whl.metadata (60 kB)\n",
      "Collecting joblib>=1.2.0 (from scikit-learn)\n",
      "  Using cached joblib-1.5.0-py3-none-any.whl.metadata (5.6 kB)\n",
      "Collecting threadpoolctl>=3.1.0 (from scikit-learn)\n",
      "  Using cached threadpoolctl-3.6.0-py3-none-any.whl.metadata (13 kB)\n",
      "Downloading scikit_learn-1.6.1-cp313-cp313-win_amd64.whl (11.1 MB)\n",
      "   ---------------------------------------- 0.0/11.1 MB ? eta -:--:--\n",
      "   ---------------------------------------- 0.0/11.1 MB ? eta -:--:--\n",
      "    --------------------------------------- 0.3/11.1 MB ? eta -:--:--\n",
      "    --------------------------------------- 0.3/11.1 MB ? eta -:--:--\n",
      "   - -------------------------------------- 0.5/11.1 MB 607.0 kB/s eta 0:00:18\n",
      "   - -------------------------------------- 0.5/11.1 MB 607.0 kB/s eta 0:00:18\n",
      "   -- ------------------------------------- 0.8/11.1 MB 756.0 kB/s eta 0:00:14\n",
      "   --- ------------------------------------ 1.0/11.1 MB 813.1 kB/s eta 0:00:13\n",
      "   --- ------------------------------------ 1.0/11.1 MB 813.1 kB/s eta 0:00:13\n",
      "   ---- ----------------------------------- 1.3/11.1 MB 770.2 kB/s eta 0:00:13\n",
      "   ---- ----------------------------------- 1.3/11.1 MB 770.2 kB/s eta 0:00:13\n",
      "   ----- ---------------------------------- 1.6/11.1 MB 704.2 kB/s eta 0:00:14\n",
      "   ----- ---------------------------------- 1.6/11.1 MB 704.2 kB/s eta 0:00:14\n",
      "   ----- ---------------------------------- 1.6/11.1 MB 704.2 kB/s eta 0:00:14\n",
      "   ------ --------------------------------- 1.8/11.1 MB 653.3 kB/s eta 0:00:15\n",
      "   ------- -------------------------------- 2.1/11.1 MB 694.5 kB/s eta 0:00:13\n",
      "   -------- ------------------------------- 2.4/11.1 MB 703.1 kB/s eta 0:00:13\n",
      "   -------- ------------------------------- 2.4/11.1 MB 703.1 kB/s eta 0:00:13\n",
      "   ---------- ----------------------------- 2.9/11.1 MB 771.9 kB/s eta 0:00:11\n",
      "   ---------- ----------------------------- 2.9/11.1 MB 771.9 kB/s eta 0:00:11\n",
      "   ---------- ----------------------------- 2.9/11.1 MB 771.9 kB/s eta 0:00:11\n",
      "   ---------- ----------------------------- 2.9/11.1 MB 771.9 kB/s eta 0:00:11\n",
      "   ----------- ---------------------------- 3.1/11.1 MB 712.1 kB/s eta 0:00:12\n",
      "   ------------ --------------------------- 3.4/11.1 MB 708.7 kB/s eta 0:00:11\n",
      "   ------------ --------------------------- 3.4/11.1 MB 708.7 kB/s eta 0:00:11\n",
      "   ------------- -------------------------- 3.7/11.1 MB 729.9 kB/s eta 0:00:11\n",
      "   -------------- ------------------------- 3.9/11.1 MB 749.5 kB/s eta 0:00:10\n",
      "   --------------- ------------------------ 4.2/11.1 MB 774.4 kB/s eta 0:00:09\n",
      "   ----------------- ---------------------- 4.7/11.1 MB 820.0 kB/s eta 0:00:08\n",
      "   ----------------- ---------------------- 5.0/11.1 MB 851.7 kB/s eta 0:00:08\n",
      "   ------------------ --------------------- 5.2/11.1 MB 857.1 kB/s eta 0:00:07\n",
      "   ------------------- -------------------- 5.5/11.1 MB 862.8 kB/s eta 0:00:07\n",
      "   ------------------- -------------------- 5.5/11.1 MB 862.8 kB/s eta 0:00:07\n",
      "   -------------------- ------------------- 5.8/11.1 MB 860.2 kB/s eta 0:00:07\n",
      "   --------------------- ------------------ 6.0/11.1 MB 868.0 kB/s eta 0:00:06\n",
      "   ---------------------- ----------------- 6.3/11.1 MB 874.3 kB/s eta 0:00:06\n",
      "   ---------------------- ----------------- 6.3/11.1 MB 874.3 kB/s eta 0:00:06\n",
      "   ------------------------ --------------- 6.8/11.1 MB 894.9 kB/s eta 0:00:05\n",
      "   ------------------------ --------------- 6.8/11.1 MB 894.9 kB/s eta 0:00:05\n",
      "   ------------------------- -------------- 7.1/11.1 MB 883.5 kB/s eta 0:00:05\n",
      "   -------------------------- ------------- 7.3/11.1 MB 892.1 kB/s eta 0:00:05\n",
      "   -------------------------- ------------- 7.3/11.1 MB 892.1 kB/s eta 0:00:05\n",
      "   --------------------------- ------------ 7.6/11.1 MB 895.4 kB/s eta 0:00:04\n",
      "   ---------------------------- ----------- 7.9/11.1 MB 887.1 kB/s eta 0:00:04\n",
      "   ----------------------------- ---------- 8.1/11.1 MB 903.5 kB/s eta 0:00:04\n",
      "   ----------------------------- ---------- 8.1/11.1 MB 903.5 kB/s eta 0:00:04\n",
      "   ------------------------------ --------- 8.4/11.1 MB 891.9 kB/s eta 0:00:04\n",
      "   -------------------------------- ------- 8.9/11.1 MB 916.4 kB/s eta 0:00:03\n",
      "   -------------------------------- ------- 8.9/11.1 MB 916.4 kB/s eta 0:00:03\n",
      "   ---------------------------------- ----- 9.4/11.1 MB 930.6 kB/s eta 0:00:02\n",
      "   ----------------------------------- ---- 10.0/11.1 MB 962.8 kB/s eta 0:00:02\n",
      "   ------------------------------------- -- 10.5/11.1 MB 992.6 kB/s eta 0:00:01\n",
      "   -------------------------------------- - 10.7/11.1 MB 1.0 MB/s eta 0:00:01\n",
      "   ---------------------------------------- 11.1/11.1 MB 1.0 MB/s eta 0:00:00\n",
      "Downloading joblib-1.5.0-py3-none-any.whl (307 kB)\n",
      "Downloading scipy-1.15.2-cp313-cp313-win_amd64.whl (41.0 MB)\n",
      "   ---------------------------------------- 0.0/41.0 MB ? eta -:--:--\n",
      "   ---------------------------------------- 0.3/41.0 MB ? eta -:--:--\n",
      "    --------------------------------------- 0.8/41.0 MB 1.9 MB/s eta 0:00:21\n",
      "   - -------------------------------------- 1.3/41.0 MB 1.9 MB/s eta 0:00:21\n",
      "   - -------------------------------------- 1.3/41.0 MB 1.9 MB/s eta 0:00:21\n",
      "   - -------------------------------------- 1.8/41.0 MB 1.6 MB/s eta 0:00:24\n",
      "   -- ------------------------------------- 2.4/41.0 MB 1.9 MB/s eta 0:00:21\n",
      "   -- ------------------------------------- 2.6/41.0 MB 1.8 MB/s eta 0:00:21\n",
      "   -- ------------------------------------- 2.9/41.0 MB 1.7 MB/s eta 0:00:23\n",
      "   --- ------------------------------------ 3.1/41.0 MB 1.8 MB/s eta 0:00:22\n",
      "   --- ------------------------------------ 3.7/41.0 MB 1.7 MB/s eta 0:00:22\n",
      "   ---- ----------------------------------- 4.2/41.0 MB 1.8 MB/s eta 0:00:21\n",
      "   ---- ----------------------------------- 4.7/41.0 MB 1.9 MB/s eta 0:00:20\n",
      "   ---- ----------------------------------- 4.7/41.0 MB 1.9 MB/s eta 0:00:20\n",
      "   ---- ----------------------------------- 5.0/41.0 MB 1.6 MB/s eta 0:00:22\n",
      "   ---- ----------------------------------- 5.0/41.0 MB 1.6 MB/s eta 0:00:22\n",
      "   ----- ---------------------------------- 5.2/41.0 MB 1.6 MB/s eta 0:00:23\n",
      "   ----- ---------------------------------- 5.8/41.0 MB 1.6 MB/s eta 0:00:23\n",
      "   ----- ---------------------------------- 6.0/41.0 MB 1.6 MB/s eta 0:00:23\n",
      "   ------ --------------------------------- 6.3/41.0 MB 1.6 MB/s eta 0:00:22\n",
      "   ------ --------------------------------- 6.8/41.0 MB 1.6 MB/s eta 0:00:22\n",
      "   ------ --------------------------------- 7.1/41.0 MB 1.6 MB/s eta 0:00:22\n",
      "   ------- -------------------------------- 7.6/41.0 MB 1.6 MB/s eta 0:00:21\n",
      "   ------- -------------------------------- 7.9/41.0 MB 1.6 MB/s eta 0:00:21\n",
      "   ------- -------------------------------- 8.1/41.0 MB 1.6 MB/s eta 0:00:21\n",
      "   ------- -------------------------------- 8.1/41.0 MB 1.6 MB/s eta 0:00:21\n",
      "   -------- ------------------------------- 8.7/41.0 MB 1.6 MB/s eta 0:00:21\n",
      "   -------- ------------------------------- 8.9/41.0 MB 1.6 MB/s eta 0:00:21\n",
      "   -------- ------------------------------- 8.9/41.0 MB 1.6 MB/s eta 0:00:21\n",
      "   --------- ------------------------------ 9.4/41.0 MB 1.5 MB/s eta 0:00:21\n",
      "   --------- ------------------------------ 9.7/41.0 MB 1.5 MB/s eta 0:00:21\n",
      "   ---------- ----------------------------- 10.5/41.0 MB 1.6 MB/s eta 0:00:20\n",
      "   ----------- ---------------------------- 11.3/41.0 MB 1.6 MB/s eta 0:00:19\n",
      "   ----------- ---------------------------- 12.1/41.0 MB 1.7 MB/s eta 0:00:17\n",
      "   ------------ --------------------------- 13.1/41.0 MB 1.8 MB/s eta 0:00:16\n",
      "   ------------- -------------------------- 14.2/41.0 MB 1.9 MB/s eta 0:00:15\n",
      "   -------------- ------------------------- 14.9/41.0 MB 1.9 MB/s eta 0:00:14\n",
      "   --------------- ------------------------ 16.0/41.0 MB 2.0 MB/s eta 0:00:13\n",
      "   ---------------- ----------------------- 16.5/41.0 MB 2.0 MB/s eta 0:00:13\n",
      "   ---------------- ----------------------- 17.3/41.0 MB 2.1 MB/s eta 0:00:12\n",
      "   ----------------- ---------------------- 18.4/41.0 MB 2.1 MB/s eta 0:00:11\n",
      "   ------------------ --------------------- 18.9/41.0 MB 2.2 MB/s eta 0:00:11\n",
      "   ------------------- -------------------- 19.9/41.0 MB 2.2 MB/s eta 0:00:10\n",
      "   -------------------- ------------------- 21.0/41.0 MB 2.3 MB/s eta 0:00:09\n",
      "   --------------------- ------------------ 22.3/41.0 MB 2.4 MB/s eta 0:00:08\n",
      "   ---------------------- ----------------- 23.3/41.0 MB 2.4 MB/s eta 0:00:08\n",
      "   ----------------------- ---------------- 23.9/41.0 MB 2.4 MB/s eta 0:00:07\n",
      "   ------------------------ --------------- 25.4/41.0 MB 2.6 MB/s eta 0:00:07\n",
      "   ------------------------- -------------- 26.5/41.0 MB 2.6 MB/s eta 0:00:06\n",
      "   -------------------------- ------------- 27.3/41.0 MB 2.6 MB/s eta 0:00:06\n",
      "   --------------------------- ------------ 27.8/41.0 MB 2.6 MB/s eta 0:00:06\n",
      "   ---------------------------- ----------- 28.8/41.0 MB 2.7 MB/s eta 0:00:05\n",
      "   ----------------------------- ---------- 29.9/41.0 MB 2.7 MB/s eta 0:00:05\n",
      "   ------------------------------ --------- 31.5/41.0 MB 2.8 MB/s eta 0:00:04\n",
      "   ------------------------------- -------- 32.8/41.0 MB 2.9 MB/s eta 0:00:03\n",
      "   --------------------------------- ------ 34.1/41.0 MB 2.9 MB/s eta 0:00:03\n",
      "   ---------------------------------- ----- 35.7/41.0 MB 3.0 MB/s eta 0:00:02\n",
      "   ------------------------------------ --- 37.0/41.0 MB 3.1 MB/s eta 0:00:02\n",
      "   ------------------------------------- -- 38.3/41.0 MB 3.1 MB/s eta 0:00:01\n",
      "   ---------------------------------------  40.1/41.0 MB 3.2 MB/s eta 0:00:01\n",
      "   ---------------------------------------  40.9/41.0 MB 3.3 MB/s eta 0:00:01\n",
      "   ---------------------------------------- 41.0/41.0 MB 3.2 MB/s eta 0:00:00\n",
      "Downloading threadpoolctl-3.6.0-py3-none-any.whl (18 kB)\n",
      "Installing collected packages: threadpoolctl, scipy, joblib, scikit-learn\n",
      "Successfully installed joblib-1.5.0 scikit-learn-1.6.1 scipy-1.15.2 threadpoolctl-3.6.0\n"
     ]
    },
    {
     "name": "stderr",
     "output_type": "stream",
     "text": [
      "\n",
      "[notice] A new release of pip is available: 25.0.1 -> 25.1.1\n",
      "[notice] To update, run: python.exe -m pip install --upgrade pip\n"
     ]
    }
   ],
   "source": [
    "!pip install scikit-learn"
   ]
  },
  {
   "cell_type": "code",
   "execution_count": 20,
   "id": "282bc44c",
   "metadata": {},
   "outputs": [],
   "source": [
    "from sklearn.datasets import load_iris\n",
    "from sklearn.neighbors import KNeighborsClassifier\n",
    "from sklearn.metrics import accuracy_score\n",
    "from sklearn.model_selection import train_test_split"
   ]
  },
  {
   "cell_type": "code",
   "execution_count": 21,
   "id": "23f4bee4",
   "metadata": {},
   "outputs": [
    {
     "name": "stdout",
     "output_type": "stream",
     "text": [
      "(150, 4) (150,)\n"
     ]
    }
   ],
   "source": [
    "X, y = load_iris(return_X_y=True)\n",
    "print(X.shape, y.shape)"
   ]
  },
  {
   "cell_type": "code",
   "execution_count": 26,
   "id": "b8babd56",
   "metadata": {},
   "outputs": [
    {
     "name": "stdout",
     "output_type": "stream",
     "text": [
      "Shape of X_train = (120, 4)\n",
      "Shape of y_train = (120,)\n",
      "Shape of X_test = (30, 4)\n",
      "Shape of y_test = (30,)\n"
     ]
    }
   ],
   "source": [
    "X_train, X_test, y_train, y_test = train_test_split(X, y, test_size=0.2)\n",
    "print(\"Shape of X_train =\", X_train.shape)\n",
    "print(\"Shape of y_train =\",y_train.shape)\n",
    "print(\"Shape of X_test =\",X_test.shape)\n",
    "print(\"Shape of y_test =\",y_test.shape)\n"
   ]
  },
  {
   "cell_type": "code",
   "execution_count": null,
   "id": "13f54938",
   "metadata": {},
   "outputs": [],
   "source": [
    "first_name = input(\"Enter your first name: \")\n",
    "\n",
    "# Ask the user for their last name\n",
    "last_name = input(\"Enter your last name: \")\n",
    "\n",
    "# Print the welcome message\n",
    "print(f\"Hello, {first_name} {last_name}! Welcome to Python programming.\")"
   ]
  }
 ],
 "metadata": {
  "kernelspec": {
   "display_name": "Python 3",
   "language": "python",
   "name": "python3"
  },
  "language_info": {
   "codemirror_mode": {
    "name": "ipython",
    "version": 3
   },
   "file_extension": ".py",
   "mimetype": "text/x-python",
   "name": "python",
   "nbconvert_exporter": "python",
   "pygments_lexer": "ipython3",
   "version": "3.13.3"
  }
 },
 "nbformat": 4,
 "nbformat_minor": 5
}
