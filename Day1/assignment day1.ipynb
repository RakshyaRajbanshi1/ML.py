{
 "cells": [
  {
   "cell_type": "code",
   "execution_count": null,
   "id": "fe8d13a7",
   "metadata": {},
   "outputs": [
    {
     "name": "stdout",
     "output_type": "stream",
     "text": [
      "Hello, rakshya rajbanshi! Welcome to Python programming.\n"
     ]
    }
   ],
   "source": [
    "1 # Write a Python program that asks the user for their first name and last name separately, then prints:\"Hello, [First Name] [Last Name]! Welcome to Python programming.\n",
    "\n",
    "# Ask the user for their first name\n",
    "first_name = input(\"Enter your first name: \")\n",
    "\n",
    "# Ask the user for their last name\n",
    "last_name = input(\"Enter your last name: \")\n",
    "\n",
    "# Display the welcome message\n",
    "print(f\"Hello, {first_name} {last_name}! Welcome to Python programming.\")\n"
   ]
  },
  {
   "cell_type": "code",
   "execution_count": 2,
   "id": "a1c96a5d",
   "metadata": {},
   "outputs": [
    {
     "name": "stdout",
     "output_type": "stream",
     "text": [
      "Your BMI is: 20.30\n"
     ]
    }
   ],
   "source": [
    "2 #Write a program that takes the user's height (in cm) and weight (in kg) as input and calculates their BMI using the formula:BMI = weight /(height/100)2 Print the BMI value rounded to 2 decimal places.\n",
    "\n",
    "# Take user's height in centimeters\n",
    "height_cm = float(input(\"Enter your height in cm: \"))\n",
    "\n",
    "# Take user's weight in kilograms\n",
    "weight_kg = float(input(\"Enter your weight in kg: \"))\n",
    "\n",
    "# Calculate BMI\n",
    "bmi = weight_kg / ((height_cm / 100) ** 2)\n",
    "\n",
    "# Print BMI rounded to 2 decimal places\n",
    "print(f\"Your BMI is: {bmi:.2f}\")\n"
   ]
  },
  {
   "cell_type": "code",
   "execution_count": 3,
   "id": "34d2ebb5",
   "metadata": {},
   "outputs": [
    {
     "name": "stdout",
     "output_type": "stream",
     "text": [
      "Your grade is: C\n"
     ]
    }
   ],
   "source": [
    "3 #Write a program that asks the user for their exam score and prints their grade based on the following conditions:\n",
    " # 90 and above → A\n",
    " # 80 to 89 → B\n",
    " #70 to 79 → C\n",
    " # 60 to 69 → D\n",
    " # Below 60 → F \n",
    "\n",
    "# Ask the user for their exam score\n",
    "score = float(input(\"Enter your exam score: \"))\n",
    "\n",
    "# Determine the grade\n",
    "if score >= 90:\n",
    "    grade = 'A'\n",
    "elif score >= 80:\n",
    "    grade = 'B'\n",
    "elif score >= 70:\n",
    "    grade = 'C'\n",
    "elif score >= 60:\n",
    "    grade = 'D'\n",
    "else:\n",
    "    grade = 'F'\n",
    "\n",
    "# Print the grade\n",
    "print(f\"Your grade is: {grade}\")\n"
   ]
  },
  {
   "cell_type": "code",
   "execution_count": 4,
   "id": "669f62ee",
   "metadata": {},
   "outputs": [
    {
     "name": "stdout",
     "output_type": "stream",
     "text": [
      "50 is not a leap year.\n"
     ]
    }
   ],
   "source": [
    "4 #Create a program that asks the user to enter a year and determines if it is a leap year or not. (A leap year is divisible by 4 but not by 100, except if also divisible by 400.)\n",
    "# Ask the user to enter a year\n",
    "year = int(input(\"Enter a year: \"))\n",
    "\n",
    "# Determine if it's a leap year\n",
    "if (year % 4 == 0 and year % 100 != 0) or (year % 400 == 0):\n",
    "    print(f\"{year} is a leap year.\")\n",
    "else:\n",
    "    print(f\"{year} is not a leap year.\")"
   ]
  },
  {
   "cell_type": "code",
   "execution_count": 5,
   "id": "0465f769",
   "metadata": {},
   "outputs": [
    {
     "name": "stdout",
     "output_type": "stream",
     "text": [
      "5\n",
      "10\n",
      "15\n",
      "20\n",
      "25\n",
      "30\n",
      "35\n",
      "40\n",
      "45\n",
      "50\n"
     ]
    }
   ],
   "source": [
    "5 # Write a Python program that prints all the multiples of 5 from 1 to 50 using a for loop.\n",
    "# Print multiples of 5 from 1 to 50\n",
    "for number in range(1, 51):\n",
    "    if number % 5 == 0:\n",
    "        print(number)"
   ]
  },
  {
   "cell_type": "code",
   "execution_count": 6,
   "id": "e278ede2",
   "metadata": {},
   "outputs": [
    {
     "name": "stdout",
     "output_type": "stream",
     "text": [
      "Negative number entered. Program stopped.\n"
     ]
    }
   ],
   "source": [
    "6 #Write a program that keeps asking the user to enter a positive number until they enter a negative number. Once a negative number is entered, the program should stop\n",
    " \n",
    "while True:\n",
    "    # Prompt the user to enter a number\n",
    "    user_input = float(input(\"Enter a positive number (or a negative number to stop): \"))\n",
    "    \n",
    "    # Check if the entered number is negative\n",
    "    if user_input < 0:\n",
    "        print(\"Negative number entered. Program stopped.\")\n",
    "        break  # Exit the loop if the number is negative\n",
    "    else:\n",
    "        print(f\"You entered {user_input}, which is positive.\")"
   ]
  },
  {
   "cell_type": "code",
   "execution_count": 7,
   "id": "acde3edf",
   "metadata": {},
   "outputs": [
    {
     "name": "stdout",
     "output_type": "stream",
     "text": [
      "Fibonacci sequence:\n",
      "0 1 1 2 3 5 8 13 "
     ]
    }
   ],
   "source": [
    "7 # Write a program that asks the user for a number n and prints the first n numbers in the Fibonacci sequence using a loop.\n",
    "\n",
    "# Ask the user for the number of terms\n",
    "n = int(input(\"Enter the number of terms you want in the Fibonacci sequence: \"))\n",
    "\n",
    "# Initialize the first two terms of the Fibonacci sequence\n",
    "a, b = 0, 1\n",
    "\n",
    "# Loop to print the Fibonacci sequence\n",
    "print(\"Fibonacci sequence:\")\n",
    "for _ in range(n):\n",
    "    print(a, end=\" \")\n",
    "    a, b = b, a + b  # Update the values of a and b for the next term\n"
   ]
  },
  {
   "cell_type": "code",
   "execution_count": 11,
   "id": "b010ac28",
   "metadata": {},
   "outputs": [
    {
     "name": "stdout",
     "output_type": "stream",
     "text": [
      "The area of the circle with radius 6.0 is 113.10\n"
     ]
    }
   ],
   "source": [
    "8 #Write a function called calculate_area(radius) that takes the radius of a circle as input and returns its area using the formula Area = πr² Call the function and print the result.)\n",
    "\n",
    "import math\n",
    "\n",
    "def calculate_area(radius):\n",
    "    # Using the formula Area = πr²\n",
    "    area = math.pi * radius ** 2\n",
    "    return area\n",
    "\n",
    "# Example usage:\n",
    "radius = float(input(\"Enter the radius of the circle: \"))\n",
    "area = calculate_area(radius)\n",
    "print(f\"The area of the circle with radius {radius} is {area:.2f}\")\n",
    "\n"
   ]
  },
  {
   "cell_type": "code",
   "execution_count": 14,
   "id": "be795099",
   "metadata": {},
   "outputs": [
    {
     "name": "stdout",
     "output_type": "stream",
     "text": [
      "'madam' is a palindrome.\n"
     ]
    }
   ],
   "source": [
    "9 # Write a function is_palindrome(word) that checks if a given word is a palindrome (reads the same forward and backward).\n",
    "\n",
    "def is_palindrome(word):\n",
    "    # Convert the word to lowercase to handle case sensitivity\n",
    "    word = word.lower()\n",
    "    \n",
    "    # Check if the word is equal to its reverse\n",
    "    return word == word[::-1]\n",
    "\n",
    "# Example usage:\n",
    "word = input(\"Enter a word to check if it's a palindrome: \")\n",
    "if is_palindrome(word):\n",
    "    print(f\"'{word}' is a palindrome.\")\n",
    "else:\n",
    "    print(f\"'{word}' is not a palindrome.\")\n"
   ]
  },
  {
   "cell_type": "code",
   "execution_count": 20,
   "id": "5c230920",
   "metadata": {},
   "outputs": [
    {
     "name": "stdout",
     "output_type": "stream",
     "text": [
      "5 is a prime number.\n"
     ]
    }
   ],
   "source": [
    "10 #Write a function check_prime(num) that takes a positive integer as an input and returns True if it is prime and return False if it is composite\n",
    "\n",
    "def check_prime(num):\n",
    "    # 0 and 1 are not prime numbers\n",
    "    if num < 2:\n",
    "        return False\n",
    "\n",
    "    # Check for factors from 2 to sqrt(num)\n",
    "    for i in range(2, int(num ** 0.5) + 1):\n",
    "        if num % i == 0:\n",
    "            return False  # Found a divisor, so it's composite\n",
    "\n",
    "    return True  # No divisors found, it's prime\n",
    "\n",
    "# Example usage:\n",
    "number = int(input(\"Enter a positive integer: \"))\n",
    "if check_prime(number):\n",
    "    print(f\"{number} is a prime number.\")\n",
    "else:\n",
    "    print(f\"{number} is a composite number.\")\n"
   ]
  }
 ],
 "metadata": {
  "kernelspec": {
   "display_name": "Python 3",
   "language": "python",
   "name": "python3"
  },
  "language_info": {
   "codemirror_mode": {
    "name": "ipython",
    "version": 3
   },
   "file_extension": ".py",
   "mimetype": "text/x-python",
   "name": "python",
   "nbconvert_exporter": "python",
   "pygments_lexer": "ipython3",
   "version": "3.13.3"
  }
 },
 "nbformat": 4,
 "nbformat_minor": 5
}
